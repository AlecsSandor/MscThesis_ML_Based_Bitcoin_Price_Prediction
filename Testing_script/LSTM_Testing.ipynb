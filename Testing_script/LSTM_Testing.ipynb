{
  "cells": [
    {
      "cell_type": "markdown",
      "metadata": {},
      "source": [
        "Testing Script"
      ]
    },
    {
      "cell_type": "code",
      "execution_count": null,
      "metadata": {},
      "outputs": [],
      "source": [
        "# Msc Computing - University of Sunderland - 2023-2024\n",
        "# Alexandru Sandor\n",
        "# bi52eb\n",
        "\n",
        "# Testing Script\n",
        "# This file contains the code for testing the models used in the dissertation thesis"
      ]
    },
    {
      "cell_type": "code",
      "execution_count": null,
      "metadata": {
        "id": "cCzIaLJFZeHw"
      },
      "outputs": [],
      "source": [
        "# Numpy library helps with numerical operation\n",
        "import numpy as np\n",
        "\n",
        "# Pandas library is used for data manipulation\n",
        "import pandas as pd\n",
        "\n",
        "# A very popular library for plotting graphs\n",
        "import matplotlib.pyplot as plt\n",
        "\n",
        "# Importing Sequential model  from Keras\n",
        "from tensorflow.keras.models import load_model\n",
        "\n",
        "# A sklearn MinMaxScaler for normalization of our dataset\n",
        "from sklearn.preprocessing import MinMaxScaler\n",
        "\n",
        "# Importing evaluation metrics from sklearn, these are used to measure the performance of the models\n",
        "from sklearn.metrics import mean_absolute_error"
      ]
    },
    {
      "cell_type": "code",
      "execution_count": null,
      "metadata": {
        "id": "sYxPqt4iZl6g"
      },
      "outputs": [],
      "source": [
        "# Loading  the trained LSTM model\n",
        "model = load_model('models/lstm_model_07.h5')"
      ]
    },
    {
      "cell_type": "code",
      "execution_count": null,
      "metadata": {
        "id": "3cp4RyLkZn-Q"
      },
      "outputs": [],
      "source": [
        "# Load data from CSV into a  DataFrame\n",
        "df = pd.read_csv('data/BTC-USD_3M_test_04.csv')"
      ]
    },
    {
      "cell_type": "code",
      "execution_count": null,
      "metadata": {
        "id": "rvAc7dwTZpju"
      },
      "outputs": [],
      "source": [
        "# Convert 'Date' column to datetime and set as .index\n",
        "df['Date'] = pd.to_datetime(df['Date'])\n",
        "df.set_index('Date', inplace=True)"
      ]
    },
    {
      "cell_type": "code",
      "execution_count": null,
      "metadata": {
        "id": "qy0qib-lZq62"
      },
      "outputs": [],
      "source": [
        "#df = df.iloc[:800]\n",
        "df_tail = df.tail(21)\n",
        "df = df.iloc[:-20]"
      ]
    },
    {
      "cell_type": "code",
      "execution_count": null,
      "metadata": {
        "id": "vK-y-ok8ZuCG"
      },
      "outputs": [],
      "source": [
        "# Extract 'Close' prices\n",
        "close_prices = df['Close'].values.reshape(-1, 1)"
      ]
    },
    {
      "cell_type": "code",
      "execution_count": null,
      "metadata": {
        "id": "CZnTvVxJZvnG"
      },
      "outputs": [],
      "source": [
        "# Normalize data\n",
        "scaler = MinMaxScaler(feature_range=(0, 1))\n",
        "scaled_data = scaler.fit_transform(close_prices)"
      ]
    },
    {
      "cell_type": "code",
      "execution_count": null,
      "metadata": {
        "id": "vWnwIL4UZw-W"
      },
      "outputs": [],
      "source": [
        "# Prepare sequences for LSTM model - this is the exact same function like the one in the Training script\n",
        "# xs:  a list of input sequences, where each sequence is of length seq_length.\n",
        "# ys: a list of target values, each corresponding to the next value in the sequence after the input sequence x\n",
        "def create_sequences(data, seq_length):\n",
        "    xs, ys = [], []\n",
        "    for i in range(len(data)-seq_length):\n",
        "        x = data[i:i+seq_length]\n",
        "        y = data[i+seq_length]\n",
        "        xs.append(x)\n",
        "        ys.append(y)\n",
        "    return np.array(xs), np.array(ys)"
      ]
    },
    {
      "cell_type": "code",
      "execution_count": null,
      "metadata": {
        "id": "7dvSgMVxZz37"
      },
      "outputs": [],
      "source": [
        "# Setting the sequence length for the LSTM input\n",
        "sequence_length = 60\n",
        "\n",
        "# Calling the create sequences func\n",
        "X, y = create_sequences(scaled_data, sequence_length)\n",
        "\n",
        "# Reshape data for LSTM (samples, time steps, features)\n",
        "# This is necessary so the data is properly formatted for input into an LSTM\n",
        "# Eg. (100, 10, 1): this bassically means 100 sequences, each of length 10, with 1 feature per time step.\n",
        "X = np.reshape(X, (X.shape[0], X.shape[1], 1))"
      ]
    },
    {
      "cell_type": "code",
      "execution_count": null,
      "metadata": {
        "id": "9HBi3WxsZ0ZK"
      },
      "outputs": [],
      "source": [
        "# Predict future  values\n",
        "predictions = []\n",
        "current_sequence = X[-1]  # Start with the last sequence in X\n",
        "\n",
        "# The loop predicts the next n units  based on the number of iterations\n",
        "for _ in range(20):\n",
        "    next_value = model.predict(current_sequence.reshape(1, sequence_length, 1))[0, 0]\n",
        "    predictions.append(next_value)\n",
        "\n",
        "    # Update current sequence to include  predicted value and drop the first value\n",
        "    current_sequence = np.roll(current_sequence, -1, axis=0)\n",
        "    current_sequence[-1] = next_value\n",
        "\n",
        "# Inverse transform predictions to get actual prices - similar to what was done in the training script\n",
        "predicted_prices = scaler.inverse_transform(np.array(predictions).reshape(-1, 1))"
      ]
    },
    {
      "cell_type": "code",
      "execution_count": null,
      "metadata": {
        "id": "-CyhgwfCY9Vd"
      },
      "outputs": [],
      "source": [
        "# Calculate theMAE\n",
        "\n",
        "# Remove the first value to align with predictions\n",
        "actual_prices = df_tail['Close'].values[1:] \n",
        "mae = mean_absolute_error(actual_prices, predicted_prices)\n",
        "print(f\"Mean Absolute Error (MAE): {mae:.2f}\")"
      ]
    },
    {
      "cell_type": "code",
      "execution_count": null,
      "metadata": {
        "id": "bXWIe5zeWJJ3"
      },
      "outputs": [],
      "source": [
        "# Calculate and compare trends for both real and predicted data\n",
        "real_trend = actual_prices[-1] - actual_prices[0]\n",
        "predicted_trend = predicted_prices[-1] - predicted_prices[0]\n",
        "\n",
        "# Compute trend direction\n",
        "real_trend_direction = \"upward\" if real_trend > 0 else \"downward\" if real_trend < 0 else \"no change\"\n",
        "predicted_trend_direction = \"upward\" if predicted_trend > 0 else \"downward\" if predicted_trend < 0 else \"no change\"\n",
        "\n",
        "print(f'Real trend value: {real_trend}')\n",
        "print(f'Real trend direction: {real_trend_direction}')\n",
        "print(f'Predicted trend value: {predicted_trend}')\n",
        "print(f'Predicted trend direction: {predicted_trend_direction}')"
      ]
    },
    {
      "cell_type": "code",
      "execution_count": null,
      "metadata": {
        "id": "r5h6D5N5Z4Y8"
      },
      "outputs": [],
      "source": [
        "# Plotting the real data and determined trend for the  n last units ( have to hardcode this everytime the predicted units change  )\n",
        "plt.figure(figsize=(14, 7))\n",
        "plt.plot(df.index, df['Close'], label='Historical Close Prices', color='blue')\n",
        "plt.plot(df_tail.index[1:], df_tail['Close'].iloc[1:], label='Historical Close Prices', color='green')\n",
        "plt.plot(pd.date_range(start=df.index[-1], periods=21, freq='D')[1:], predicted_prices, label='Predicted Close Prices', linestyle='--', color='red')\n",
        "plt.title('Model_07_Testing_Dataset_04')\n",
        "plt.xlabel('Date')\n",
        "plt.ylabel('Close Price')\n",
        "plt.legend()\n",
        "plt.grid(True)\n",
        "plt.show()"
      ]
    }
  ],
  "metadata": {
    "colab": {
      "provenance": []
    },
    "kernelspec": {
      "display_name": "Python 3",
      "name": "python3"
    },
    "language_info": {
      "codemirror_mode": {
        "name": "ipython",
        "version": 3
      },
      "file_extension": ".py",
      "mimetype": "text/x-python",
      "name": "python",
      "nbconvert_exporter": "python",
      "pygments_lexer": "ipython3",
      "version": "3.11.5"
    }
  },
  "nbformat": 4,
  "nbformat_minor": 0
}
