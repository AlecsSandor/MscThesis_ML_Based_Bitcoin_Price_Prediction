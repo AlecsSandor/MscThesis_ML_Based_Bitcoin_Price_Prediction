{
  "cells": [
    {
      "cell_type": "markdown",
      "metadata": {},
      "source": [
        "Training Script"
      ]
    },
    {
      "cell_type": "code",
      "execution_count": null,
      "metadata": {},
      "outputs": [],
      "source": [
        "# Msc Computing - University of Sunderland - 2023-2024\n",
        "# Alexandru Sandor\n",
        "# bi52eb\n",
        "\n",
        "# Training Script\n",
        "# This file contains the code for training the models used in the dissertation thesis"
      ]
    },
    {
      "cell_type": "code",
      "execution_count": null,
      "metadata": {
        "id": "ua2hYypRhYde"
      },
      "outputs": [],
      "source": [
        "# Numpy library helps with numerical operation\n",
        "import numpy as np\n",
        "\n",
        "# Pandas library is used for data manipulation\n",
        "import pandas as pd\n",
        "\n",
        "# A sklearn MinMaxScaler for normalization of our dataset\n",
        "from sklearn.preprocessing import MinMaxScaler\n",
        "\n",
        "# A very popular library for plotting graphs\n",
        "import matplotlib.pyplot as plt\n",
        "\n",
        "# Using the TensorFlow library for machine learning\n",
        "import tensorflow as tf\n",
        "\n",
        "# The regularizer helps with avoiding overfiting\n",
        "from tensorflow.keras.regularizers import l2\n",
        "\n",
        "# Importing Sequential model from Keras\n",
        "from tensorflow.keras.models import Sequential\n",
        "\n",
        "# Importing LSTM, Dense, and Dropout layers from Keras\n",
        "from tensorflow.keras.layers import LSTM, Dense, Dropout, Conv1D, MaxPooling1D, Flatten\n",
        "\n",
        "# Importing evaluation metrics from sklearn, these are used to measure the performance of the models\n",
        "from sklearn.metrics import mean_squared_error, mean_absolute_error, mean_absolute_percentage_error"
      ]
    },
    {
      "cell_type": "code",
      "execution_count": null,
      "metadata": {},
      "outputs": [],
      "source": [
        "# Training Datasets Explained\n",
        "# Short Shot\n",
        "# -------- Spread: 10 Days\n",
        "# --- Granulation: 1 Minute\n",
        "# -- Observations: 15831\n",
        "#\n",
        "# Long Shot\n",
        "# -------- Spread: 1 Year\n",
        "# --- Granulation: 1 Day\n",
        "# -- Observations: 368"
      ]
    },
    {
      "cell_type": "code",
      "execution_count": null,
      "metadata": {
        "id": "TTHTbgyOig-y"
      },
      "outputs": [],
      "source": [
        "# Load the dataset (for this study, two different datasets are used both in CSV format - BTC-USD_6M and BTC-USD_24H )\n",
        "\n",
        "# Name of the dataset file\n",
        "file_path = 'BTC-USD_10D_Training.csv'\n",
        "\n",
        "# The CSV file is read into a pandas DataFrame\n",
        "df = pd.read_csv(file_path)"
      ]
    },
    {
      "cell_type": "code",
      "execution_count": null,
      "metadata": {
        "id": "MnwWdSdXjElh"
      },
      "outputs": [],
      "source": [
        "# Converting  the 'Date' column to datetime and setting it as index, since it contains strings in it raw format\n",
        "df['Date'] = pd.to_datetime(df['Date'])\n",
        "\n",
        "# 'Date' column is set as the index of the DataFrame\n",
        "df.set_index('Date', inplace=True)"
      ]
    },
    {
      "cell_type": "code",
      "execution_count": null,
      "metadata": {
        "id": "Z_wBEHr9jHvd"
      },
      "outputs": [],
      "source": [
        "# Extract the 'Close' prices into a numpy array\n",
        "close_prices = df['Close'].values"
      ]
    },
    {
      "cell_type": "code",
      "execution_count": null,
      "metadata": {
        "id": "eHC8ca-HjMZF"
      },
      "outputs": [],
      "source": [
        "# Normalizing 'Close' prices\n",
        "\n",
        "# First create the MinMaxScaler object\n",
        "scaler = MinMaxScaler(feature_range=(0, 1))\n",
        "\n",
        "# Apply normalization to 'Close' prices\n",
        "scaled_close_prices = scaler.fit_transform(close_prices.reshape(-1, 1))"
      ]
    },
    {
      "cell_type": "code",
      "execution_count": null,
      "metadata": {
        "id": "Dm8BB1_5jch2"
      },
      "outputs": [],
      "source": [
        "# A Function to create sequences for the LSTM model, based on a predifined number\n",
        "def create_sequences(data, seq_length):\n",
        "    sequences = []\n",
        "    labels = []\n",
        "\n",
        "    # Looping through the data and  creating sequences and labels for each sequence\n",
        "    for i in range(len(data) - seq_length):\n",
        "        sequences.append(data[i:i+seq_length])\n",
        "        labels.append(data[i+seq_length])\n",
        "    return np.array(sequences), np.array(labels)"
      ]
    },
    {
      "cell_type": "code",
      "execution_count": null,
      "metadata": {
        "id": "HgBD-aWujg2Y"
      },
      "outputs": [],
      "source": [
        "# Length of each sequence -  this means that the model will require the last 60 units in order to predict the next one\n",
        "seq_length = 60\n",
        "\n",
        "# Call the create_sequence function\n",
        "X, y = create_sequences(scaled_close_prices, seq_length)"
      ]
    },
    {
      "cell_type": "code",
      "execution_count": null,
      "metadata": {
        "id": "lu3sx5g5jjVG"
      },
      "outputs": [],
      "source": [
        "# Spliting the training and testing  data\n",
        "\n",
        "# 80% of data goes to training\n",
        "split_ratio = 0.8 \n",
        "\n",
        "# Size of training data\n",
        "train_size = int(len(X) * split_ratio)\n",
        "\n",
        "# Splitting sequences into training and test sets\n",
        "X_train, X_test = X[:train_size], X[train_size:]\n",
        "\n",
        "# Splitting labels into training and test sets\n",
        "y_train, y_test = y[:train_size], y[train_size:]"
      ]
    },
    {
      "cell_type": "code",
      "execution_count": null,
      "metadata": {},
      "outputs": [],
      "source": [
        "# Model Architectural Components\n",
        "#\n",
        "# Sequential Model - This means that the model is built using stack of layers in a sequential manner\n",
        "#\n",
        "# LSTM Layer - RNN type used for sequential predictions\n",
        "# # Arguments:\n",
        "# # # No. of neurons in the layer, which will determine the dimension of the output\n",
        "# # # return_sequence - if set to true will return the full sequence of output for each input sequence, but this is required only when the next layer expects a sequence as input\n",
        "# # # input_shape=(seq_length, 1) - shape of the input data ( seq_lenght - length of the input sequence,  1 - this means that there is just one feature in each time step - for this case, the 'Close' prices )\n",
        "#\n",
        "# Dropout Layer - a method for preventing overfiting through randomnly  set a fraction of the inputs to zero, at  each update during training\n",
        "#\n",
        "# Dense - fully connected layer where each input is connected to each output with a learnable weight\n",
        "#\n",
        "# Final Dense Layer - this  layer with 1 unit is producing the final prediction ( for regression tasks, such as predicting the next 'Close' price, this layer outputs a single continuous value )"
      ]
    },
    {
      "cell_type": "markdown",
      "metadata": {
        "id": "BBkNvvqn6oI_"
      },
      "source": [
        "LSTM - Model Config_01\n",
        "\n"
      ]
    },
    {
      "cell_type": "code",
      "execution_count": null,
      "metadata": {
        "id": "iLOBoURl6WSy"
      },
      "outputs": [],
      "source": [
        "# # Model Arch 01\n",
        "# model = Sequential([\n",
        "#     LSTM(50, return_sequences=False, input_shape=(seq_length, 1)),\n",
        "#     # LSTM layer with 50 units, expects sequences (return_sequences=True) as input\n",
        "#     # Input shape is (seq_length, 1) where seq_length is the length of each sequence and 1 is the number of features (in this case, only 'Close' price)\n",
        "#     Dense(1)\n",
        "# ])"
      ]
    },
    {
      "cell_type": "markdown",
      "metadata": {
        "id": "-DV61uHD9xbe"
      },
      "source": [
        "LSTM - Model Config_02"
      ]
    },
    {
      "cell_type": "code",
      "execution_count": null,
      "metadata": {
        "id": "jxhE6hp_9nBF"
      },
      "outputs": [],
      "source": [
        "# # Model Arch 02\n",
        "# model = Sequential([\n",
        "#     LSTM(20, return_sequences=True, input_shape=(seq_length, 1)),\n",
        "#     # LSTM layer with 50 units, expects sequences (return_sequences=True) as input\n",
        "#     # Input shape is (seq_length, 1) where seq_length is the length of each sequence and 1 is the number of features (in this case, only 'Close' price)\n",
        "\n",
        "#     Dropout(0.4),\n",
        "#     # Dropout layer to prevent overfitting by randomly setting 20% of input units to 0 at each update during training\n",
        "\n",
        "#     LSTM(20, return_sequences=False),\n",
        "#     # LSTM layer with 50 units, does not return sequences (return_sequences=False), used for final sequence processing\n",
        "\n",
        "#     Dropout(0.4),\n",
        "#     # Dropout layer to prevent overfitting\n",
        "\n",
        "#     Dense(25),\n",
        "#     # Fully connected Dense layer with 25 units\n",
        "\n",
        "#     Dense(1)\n",
        "#     # Output layer with 1 unit for regression task (predicting the next 'Close' price)\n",
        "# ])"
      ]
    },
    {
      "cell_type": "markdown",
      "metadata": {
        "id": "K6A_j75c6dR_"
      },
      "source": [
        "LSTM - Model Config_03 -\n",
        "\n",
        "\n"
      ]
    },
    {
      "cell_type": "code",
      "execution_count": null,
      "metadata": {
        "id": "TKFi8WYjjl9J"
      },
      "outputs": [],
      "source": [
        "# # Model Arch 03\n",
        "# model = Sequential([\n",
        "#     LSTM(50, return_sequences=True, input_shape=(seq_length, 1)),\n",
        "#     # LSTM layer with 50 units, expects sequences (return_sequences=True) as input\n",
        "#     # Input shape is (seq_length, 1) where seq_length is the length of each sequence and 1 is the number of features (in this case, only 'Close' price)\n",
        "\n",
        "#     Dropout(0.2),\n",
        "#     # Dropout layer to prevent overfitting by randomly setting 20% of input units to 0 at each update during training\n",
        "\n",
        "#     LSTM(50, return_sequences=False),\n",
        "#     # LSTM layer with 50 units, does not return sequences (return_sequences=False), used for final sequence processing\n",
        "\n",
        "#     Dropout(0.2),\n",
        "#     # Dropout layer to prevent overfitting\n",
        "\n",
        "#     Dense(25),\n",
        "#     # Fully connected Dense layer with 25 units\n",
        "\n",
        "#     Dense(1)\n",
        "#     # Output layer with 1 unit for regression task (predicting the next 'Close' price)\n",
        "# ])"
      ]
    },
    {
      "cell_type": "markdown",
      "metadata": {
        "id": "gAuurp6hGeG5"
      },
      "source": [
        "LSTM - Model Config_04"
      ]
    },
    {
      "cell_type": "code",
      "execution_count": null,
      "metadata": {
        "id": "102wkZ7DGThS"
      },
      "outputs": [],
      "source": [
        "# # Model Arch 04\n",
        "# model = Sequential([\n",
        "#     Conv1D(filters=64, kernel_size=3, activation='relu', input_shape=(seq_length, 1)),\n",
        "#     MaxPooling1D(pool_size=2),\n",
        "#     LSTM(50, return_sequences=True, kernel_regularizer=l2(0.001)),\n",
        "#     Dropout(0.2),\n",
        "#     LSTM(50, return_sequences=False, kernel_regularizer=l2(0.001)),\n",
        "#     Dropout(0.2),\n",
        "#     Dense(25, kernel_regularizer=l2(0.001)),\n",
        "#     Dense(1)\n",
        "# ])"
      ]
    },
    {
      "cell_type": "markdown",
      "metadata": {
        "id": "MKyl9wpQitOd"
      },
      "source": [
        "LSTM - Model Config_05 -"
      ]
    },
    {
      "cell_type": "code",
      "execution_count": null,
      "metadata": {
        "id": "rAcHYK7sYHS0"
      },
      "outputs": [],
      "source": [
        "# # Model Arch 05\n",
        "# model = Sequential([\n",
        "#     LSTM(20, return_sequences=False, input_shape=(seq_length, 1), kernel_regularizer=l2(0.01)),\n",
        "#     Dropout(0.4),\n",
        "#     Dense(1)\n",
        "# ])"
      ]
    },
    {
      "cell_type": "markdown",
      "metadata": {
        "id": "TYvk4IbtCLJo"
      },
      "source": [
        "LSTM - Model Config_06 -"
      ]
    },
    {
      "cell_type": "code",
      "execution_count": null,
      "metadata": {
        "id": "pS3rA5YSCEMm"
      },
      "outputs": [],
      "source": [
        "# # Model Arch 06\n",
        "# model = Sequential([\n",
        "#     LSTM(75, return_sequences=True, input_shape=(seq_length, 1), kernel_regularizer=l2(0.1)),\n",
        "#     # LSTM layer with 50 units, expects sequences (return_sequences=True) as input\n",
        "#     # Input shape is (seq_length, 1) where seq_length is the length of each sequence and 1 is the number of features (in this case, only 'Close' price)\n",
        "\n",
        "#     Dropout(0.5),\n",
        "#     # Dropout layer to prevent overfitting by randomly setting 20% of input units to 0 at each update during training\n",
        "\n",
        "#     # LSTM(75, return_sequences=False, kernel_regularizer=l2(0.1)),\n",
        "#     # # LSTM layer with 50 units, does not return sequences (return_sequences=False), used for final sequence processing\n",
        "\n",
        "#     # Dropout(0.3),\n",
        "#     # # Dropout layer to prevent overfitting\n",
        "\n",
        "#     Dense(25),\n",
        "#     # Fully connected Dense layer with 25 units\n",
        "\n",
        "#     Dense(1)\n",
        "#     # Output layer with 1 unit for regression task (predicting the next 'Close' price)\n",
        "# ])"
      ]
    },
    {
      "cell_type": "code",
      "execution_count": null,
      "metadata": {},
      "outputs": [],
      "source": [
        "# Print the strcture of the model\n",
        "print(model.summary())"
      ]
    },
    {
      "cell_type": "code",
      "execution_count": null,
      "metadata": {
        "id": "9bnw_VC0jpvN"
      },
      "outputs": [],
      "source": [
        "# The LSTM model is compiled using the Adam optimizer ( effective for training neural networks ) and using Mean Squared Error as the loss function\n",
        "\n",
        "# Mean Squared Error:\n",
        "# # is calculated as the average of the squared differences between the predicted values and the actual target values\n",
        "# # quantifies the difference between the predicted values and the actual values. \n",
        "# # a lower MSE indicates that the model's predictions are closer to the actual values, implying better accuracy.\n",
        "\n",
        "model.compile(optimizer= tf.keras.optimizers.Adam(learning_rate=0.0001), loss='mean_squared_error')"
      ]
    },
    {
      "cell_type": "code",
      "execution_count": null,
      "metadata": {
        "colab": {
          "background_save": true,
          "base_uri": "https://localhost:8080/"
        },
        "id": "CyNfbLS-jtPe",
        "outputId": "8395f7a8-74d8-4063-d332-db2ecef8765b"
      },
      "outputs": [],
      "source": [
        "# Training the LSTM model - ( epoch - are iterations over the entire dataset and with a batch size of 32 (number of samples per gradient update)) -\n",
        "# using validation data  for monitoring performance\n",
        "history = model.fit(X_train, y_train, epochs=5, batch_size=32, validation_data=(X_test, y_test), verbose=1)"
      ]
    },
    {
      "cell_type": "code",
      "execution_count": null,
      "metadata": {
        "id": "5wnDDCffj2Ym"
      },
      "outputs": [],
      "source": [
        "# Block for evaluating the model\n",
        "\n",
        "# Compute training loss\n",
        "train_loss = model.evaluate(X_train, y_train, verbose=0)\n",
        "\n",
        "# Compute test loss\n",
        "test_loss = model.evaluate(X_test, y_test, verbose=0)\n",
        "\n",
        "# Print training and test loss\n",
        "print(f'Train Loss: {train_loss:.4f}, Test Loss: {test_loss:.4f}')\n"
      ]
    },
    {
      "cell_type": "code",
      "execution_count": null,
      "metadata": {
        "id": "meNv1qGQkGrI"
      },
      "outputs": [],
      "source": [
        "# Making predictions with the LSTM model - the fun part\n",
        "\n",
        "# Getting predictions on training data\n",
        "train_predictions = model.predict(X_train)\n",
        "\n",
        "acc_train_pred = train_predictions\n",
        "\n",
        "# Getting predictions on test data\n",
        "test_predictions = model.predict(X_test)\n",
        "\n",
        "acc_test_pred = test_predictions\n",
        "\n",
        "# Inverse transforming training predictions to get actual 'Close' prices\n",
        "train_predictions = scaler.inverse_transform(train_predictions)\n",
        "\n",
        "# Inverse transforming test predictions to get actual 'Close' prices\n",
        "test_predictions = scaler.inverse_transform(test_predictions)\n",
        "\n",
        "# Inverse transforming training labels to get actual 'Close' prices\n",
        "y_train_scaled = scaler.inverse_transform(y_train.reshape(-1, 1))\n",
        "\n",
        "# Inverse transforming test labels to get actual 'Close' prices\n",
        "y_test_scaled = scaler.inverse_transform(y_test.reshape(-1, 1))"
      ]
    },
    {
      "cell_type": "code",
      "execution_count": null,
      "metadata": {
        "colab": {
          "background_save": true
        },
        "id": "iJnl_GrjkMtM",
        "outputId": "1c8f320c-0845-451f-b83e-9fe1a59e5b3b"
      },
      "outputs": [],
      "source": [
        "# Calculate evaluation metrics\n",
        "\n",
        "# Calculating Mean Absolute Error between actual test prices and predicted test prices\n",
        "mae = mean_absolute_error(y_test_scaled, test_predictions)\n",
        "\n",
        "# Printing Mean Absolute Error\n",
        "print(f'Mean Absolute Error: {mae:.4f}')\n",
        "\n",
        "# Function for computing the accuracy assuming y_true are the actual values and y_pred are the predicted values\n",
        "# This function will calculate the accuracy at a certain tolerance level - in this case 5%\n",
        "def calculate_accuracy(y_true, y_pred, tolerance):\n",
        "    # Calculate the absolute percentage error for each prediction\n",
        "    absolute_percentage_error = np.abs((y_true - y_pred) / y_true) * 100\n",
        "\n",
        "    # Calculate accuracy as the percentage of predictions within the tolerance\n",
        "    accuracy = np.mean(absolute_percentage_error <= tolerance) * 100\n",
        "\n",
        "    return accuracy\n",
        "\n",
        "accuracy_test = calculate_accuracy(y_test, acc_test_pred, 5)\n",
        "print(f'Accuracy on test within 5% tolerance: {accuracy_test:.2f}%')\n",
        "\n",
        "accuracy_train = calculate_accuracy(y_train, acc_train_pred, 5)\n",
        "print(f'Accuracy on train within 5% tolerance: {accuracy_train:.2f}%')\n"
      ]
    },
    {
      "cell_type": "code",
      "execution_count": null,
      "metadata": {
        "id": "jNxwzxDGkWH0"
      },
      "outputs": [],
      "source": [
        "# Preparing data for plotting\n",
        "\n",
        "# Selecting training  data for plotting\n",
        "train = df[:train_size+seq_length]\n",
        "\n",
        "# Selecting validation (test) data for plotting\n",
        "valid = df[train_size+seq_length:]\n",
        "\n",
        "# Adding predicted 'Close'  prices to validation DataFrame\n",
        "valid['Predictions'] = test_predictions\n",
        "\n",
        "# Indices for training predictions\n",
        "train_indices = df.index[seq_length:train_size+seq_length]\n",
        "\n",
        "# Indices for validation predictions\n",
        "valid_indices = df.index[train_size+seq_length:]"
      ]
    },
    {
      "cell_type": "code",
      "execution_count": null,
      "metadata": {
        "id": "dBwYpK2FkccU"
      },
      "outputs": [],
      "source": [
        "# Plotting actual prices, training predictions, and test predictions\n",
        "plt.figure(figsize=(16,8))\n",
        "plt.title('LSTM - Config 4')\n",
        "plt.xlabel('Date')\n",
        "plt.ylabel('Close Price USD ($)')\n",
        "plt.plot(df['Close'], label='Actual Prices')\n",
        "\n",
        "# Plotting training predictions\n",
        "plt.plot(train_indices, train_predictions, label='Train Predictions', linestyle='--')\n",
        "\n",
        "# Plotting test predictions\n",
        "plt.plot(valid_indices, valid['Predictions'], label='Test Predictions', linestyle='--')\n",
        "\n",
        "# Adding a  legend\n",
        "plt.legend(['Actual Prices', 'Train Predictions', 'Test Predictions'], loc='lower right')\n",
        "\n",
        "# Displaying the plot\n",
        "plt.show()"
      ]
    },
    {
      "cell_type": "code",
      "execution_count": null,
      "metadata": {
        "id": "nEdGpb_XkpOT"
      },
      "outputs": [],
      "source": [
        "# Save the trained model\n",
        "model.save('lstm_model.h5')"
      ]
    }
  ],
  "metadata": {
    "colab": {
      "provenance": []
    },
    "kernelspec": {
      "display_name": "Python 3",
      "name": "python3"
    },
    "language_info": {
      "codemirror_mode": {
        "name": "ipython",
        "version": 3
      },
      "file_extension": ".py",
      "mimetype": "text/x-python",
      "name": "python",
      "nbconvert_exporter": "python",
      "pygments_lexer": "ipython3",
      "version": "3.11.5"
    }
  },
  "nbformat": 4,
  "nbformat_minor": 0
}
